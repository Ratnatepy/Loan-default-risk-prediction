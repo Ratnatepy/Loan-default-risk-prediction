{
 "cells": [
  {
   "cell_type": "code",
   "execution_count": 1,
   "metadata": {
    "executionInfo": {
     "elapsed": 959,
     "status": "ok",
     "timestamp": 1710924793389,
     "user": {
      "displayName": "Bun Ratnatepy",
      "userId": "09977531303462029839"
     },
     "user_tz": -420
    },
    "id": "j9a9azGelrP9"
   },
   "outputs": [],
   "source": [
    "# import necessary packages\n",
    "import numpy as np\n",
    "import pandas as pd\n",
    "import matplotlib.pyplot as plt\n",
    "import seaborn as sns"
   ]
  },
  {
   "cell_type": "code",
   "execution_count": 2,
   "metadata": {
    "executionInfo": {
     "elapsed": 1022,
     "status": "ok",
     "timestamp": 1710924795656,
     "user": {
      "displayName": "Bun Ratnatepy",
      "userId": "09977531303462029839"
     },
     "user_tz": -420
    },
    "id": "lC3SSLbRmZIJ"
   },
   "outputs": [],
   "source": [
    "# load data\n",
    "df = pd.read_csv(\"Loan_default.csv\")\n",
    "data_array = df.to_numpy()\n"
   ]
  },
  {
   "cell_type": "code",
   "execution_count": 3,
   "metadata": {
    "colab": {
     "base_uri": "https://localhost:8080/",
     "height": 261
    },
    "executionInfo": {
     "elapsed": 5,
     "status": "ok",
     "timestamp": 1710924796789,
     "user": {
      "displayName": "Bun Ratnatepy",
      "userId": "09977531303462029839"
     },
     "user_tz": -420
    },
    "id": "V-bjA1HKoQzi",
    "outputId": "8e68f6ee-260c-4104-e06a-e70a0e4a7c66"
   },
   "outputs": [
    {
     "name": "stdout",
     "output_type": "stream",
     "text": [
      "Shape of the dataset : (255347, 18)\n"
     ]
    },
    {
     "data": {
      "text/html": [
       "<div>\n",
       "<style scoped>\n",
       "    .dataframe tbody tr th:only-of-type {\n",
       "        vertical-align: middle;\n",
       "    }\n",
       "\n",
       "    .dataframe tbody tr th {\n",
       "        vertical-align: top;\n",
       "    }\n",
       "\n",
       "    .dataframe thead th {\n",
       "        text-align: right;\n",
       "    }\n",
       "</style>\n",
       "<table border=\"1\" class=\"dataframe\">\n",
       "  <thead>\n",
       "    <tr style=\"text-align: right;\">\n",
       "      <th></th>\n",
       "      <th>LoanID</th>\n",
       "      <th>Age</th>\n",
       "      <th>Income</th>\n",
       "      <th>LoanAmount</th>\n",
       "      <th>CreditScore</th>\n",
       "      <th>MonthsEmployed</th>\n",
       "      <th>NumCreditLines</th>\n",
       "      <th>InterestRate</th>\n",
       "      <th>LoanTerm</th>\n",
       "      <th>DTIRatio</th>\n",
       "      <th>Education</th>\n",
       "      <th>EmploymentType</th>\n",
       "      <th>MaritalStatus</th>\n",
       "      <th>HasMortgage</th>\n",
       "      <th>HasDependents</th>\n",
       "      <th>LoanPurpose</th>\n",
       "      <th>HasCoSigner</th>\n",
       "      <th>Default</th>\n",
       "    </tr>\n",
       "  </thead>\n",
       "  <tbody>\n",
       "    <tr>\n",
       "      <th>0</th>\n",
       "      <td>I38PQUQS96</td>\n",
       "      <td>56</td>\n",
       "      <td>85994</td>\n",
       "      <td>50587</td>\n",
       "      <td>520</td>\n",
       "      <td>80</td>\n",
       "      <td>4</td>\n",
       "      <td>15.23</td>\n",
       "      <td>36</td>\n",
       "      <td>0.44</td>\n",
       "      <td>Bachelor's</td>\n",
       "      <td>Full-time</td>\n",
       "      <td>Divorced</td>\n",
       "      <td>Yes</td>\n",
       "      <td>Yes</td>\n",
       "      <td>Other</td>\n",
       "      <td>Yes</td>\n",
       "      <td>0</td>\n",
       "    </tr>\n",
       "    <tr>\n",
       "      <th>1</th>\n",
       "      <td>HPSK72WA7R</td>\n",
       "      <td>69</td>\n",
       "      <td>50432</td>\n",
       "      <td>124440</td>\n",
       "      <td>458</td>\n",
       "      <td>15</td>\n",
       "      <td>1</td>\n",
       "      <td>4.81</td>\n",
       "      <td>60</td>\n",
       "      <td>0.68</td>\n",
       "      <td>Master's</td>\n",
       "      <td>Full-time</td>\n",
       "      <td>Married</td>\n",
       "      <td>No</td>\n",
       "      <td>No</td>\n",
       "      <td>Other</td>\n",
       "      <td>Yes</td>\n",
       "      <td>0</td>\n",
       "    </tr>\n",
       "    <tr>\n",
       "      <th>2</th>\n",
       "      <td>C1OZ6DPJ8Y</td>\n",
       "      <td>46</td>\n",
       "      <td>84208</td>\n",
       "      <td>129188</td>\n",
       "      <td>451</td>\n",
       "      <td>26</td>\n",
       "      <td>3</td>\n",
       "      <td>21.17</td>\n",
       "      <td>24</td>\n",
       "      <td>0.31</td>\n",
       "      <td>Master's</td>\n",
       "      <td>Unemployed</td>\n",
       "      <td>Divorced</td>\n",
       "      <td>Yes</td>\n",
       "      <td>Yes</td>\n",
       "      <td>Auto</td>\n",
       "      <td>No</td>\n",
       "      <td>1</td>\n",
       "    </tr>\n",
       "    <tr>\n",
       "      <th>3</th>\n",
       "      <td>V2KKSFM3UN</td>\n",
       "      <td>32</td>\n",
       "      <td>31713</td>\n",
       "      <td>44799</td>\n",
       "      <td>743</td>\n",
       "      <td>0</td>\n",
       "      <td>3</td>\n",
       "      <td>7.07</td>\n",
       "      <td>24</td>\n",
       "      <td>0.23</td>\n",
       "      <td>High School</td>\n",
       "      <td>Full-time</td>\n",
       "      <td>Married</td>\n",
       "      <td>No</td>\n",
       "      <td>No</td>\n",
       "      <td>Business</td>\n",
       "      <td>No</td>\n",
       "      <td>0</td>\n",
       "    </tr>\n",
       "    <tr>\n",
       "      <th>4</th>\n",
       "      <td>EY08JDHTZP</td>\n",
       "      <td>60</td>\n",
       "      <td>20437</td>\n",
       "      <td>9139</td>\n",
       "      <td>633</td>\n",
       "      <td>8</td>\n",
       "      <td>4</td>\n",
       "      <td>6.51</td>\n",
       "      <td>48</td>\n",
       "      <td>0.73</td>\n",
       "      <td>Bachelor's</td>\n",
       "      <td>Unemployed</td>\n",
       "      <td>Divorced</td>\n",
       "      <td>No</td>\n",
       "      <td>Yes</td>\n",
       "      <td>Auto</td>\n",
       "      <td>No</td>\n",
       "      <td>0</td>\n",
       "    </tr>\n",
       "  </tbody>\n",
       "</table>\n",
       "</div>"
      ],
      "text/plain": [
       "       LoanID  Age  Income  LoanAmount  CreditScore  MonthsEmployed  \\\n",
       "0  I38PQUQS96   56   85994       50587          520              80   \n",
       "1  HPSK72WA7R   69   50432      124440          458              15   \n",
       "2  C1OZ6DPJ8Y   46   84208      129188          451              26   \n",
       "3  V2KKSFM3UN   32   31713       44799          743               0   \n",
       "4  EY08JDHTZP   60   20437        9139          633               8   \n",
       "\n",
       "   NumCreditLines  InterestRate  LoanTerm  DTIRatio    Education  \\\n",
       "0               4         15.23        36      0.44   Bachelor's   \n",
       "1               1          4.81        60      0.68     Master's   \n",
       "2               3         21.17        24      0.31     Master's   \n",
       "3               3          7.07        24      0.23  High School   \n",
       "4               4          6.51        48      0.73   Bachelor's   \n",
       "\n",
       "  EmploymentType MaritalStatus HasMortgage HasDependents LoanPurpose  \\\n",
       "0      Full-time      Divorced         Yes           Yes       Other   \n",
       "1      Full-time       Married          No            No       Other   \n",
       "2     Unemployed      Divorced         Yes           Yes        Auto   \n",
       "3      Full-time       Married          No            No    Business   \n",
       "4     Unemployed      Divorced          No           Yes        Auto   \n",
       "\n",
       "  HasCoSigner  Default  \n",
       "0         Yes        0  \n",
       "1         Yes        0  \n",
       "2          No        1  \n",
       "3          No        0  \n",
       "4          No        0  "
      ]
     },
     "execution_count": 3,
     "metadata": {},
     "output_type": "execute_result"
    }
   ],
   "source": [
    "\n",
    "pd.set_option(\"display.max_columns\",None)\n",
    "print(\"Shape of the dataset :\",df.shape)\n",
    "df.head()"
   ]
  },
  {
   "cell_type": "code",
   "execution_count": 4,
   "metadata": {
    "colab": {
     "base_uri": "https://localhost:8080/"
    },
    "executionInfo": {
     "elapsed": 576,
     "status": "ok",
     "timestamp": 1710924799811,
     "user": {
      "displayName": "Bun Ratnatepy",
      "userId": "09977531303462029839"
     },
     "user_tz": -420
    },
    "id": "iD_iVpRnpKtf",
    "outputId": "2cff7fdc-e0f6-4c55-acad-1ca72a4b4778"
   },
   "outputs": [
    {
     "name": "stdout",
     "output_type": "stream",
     "text": [
      "0\n",
      "0\n"
     ]
    }
   ],
   "source": [
    "#Checking for duplicates\n",
    "print(df.duplicated().sum())\n",
    "print(df.LoanID.duplicated().sum())"
   ]
  },
  {
   "cell_type": "code",
   "execution_count": 5,
   "metadata": {
    "colab": {
     "base_uri": "https://localhost:8080/"
    },
    "executionInfo": {
     "elapsed": 422,
     "status": "ok",
     "timestamp": 1710924801282,
     "user": {
      "displayName": "Bun Ratnatepy",
      "userId": "09977531303462029839"
     },
     "user_tz": -420
    },
    "id": "SUcvWCxJpbxm",
    "outputId": "9817c211-dfb1-4546-fca7-c3b8ebf149ae"
   },
   "outputs": [
    {
     "name": "stdout",
     "output_type": "stream",
     "text": [
      "<class 'pandas.core.frame.DataFrame'>\n",
      "RangeIndex: 255347 entries, 0 to 255346\n",
      "Data columns (total 18 columns):\n",
      " #   Column          Non-Null Count   Dtype  \n",
      "---  ------          --------------   -----  \n",
      " 0   LoanID          255347 non-null  object \n",
      " 1   Age             255347 non-null  int64  \n",
      " 2   Income          255347 non-null  int64  \n",
      " 3   LoanAmount      255347 non-null  int64  \n",
      " 4   CreditScore     255347 non-null  int64  \n",
      " 5   MonthsEmployed  255347 non-null  int64  \n",
      " 6   NumCreditLines  255347 non-null  int64  \n",
      " 7   InterestRate    255347 non-null  float64\n",
      " 8   LoanTerm        255347 non-null  int64  \n",
      " 9   DTIRatio        255347 non-null  float64\n",
      " 10  Education       255347 non-null  object \n",
      " 11  EmploymentType  255347 non-null  object \n",
      " 12  MaritalStatus   255347 non-null  object \n",
      " 13  HasMortgage     255347 non-null  object \n",
      " 14  HasDependents   255347 non-null  object \n",
      " 15  LoanPurpose     255347 non-null  object \n",
      " 16  HasCoSigner     255347 non-null  object \n",
      " 17  Default         255347 non-null  int64  \n",
      "dtypes: float64(2), int64(8), object(8)\n",
      "memory usage: 35.1+ MB\n"
     ]
    }
   ],
   "source": [
    "# Check Data Information\n",
    "df.info()"
   ]
  },
  {
   "cell_type": "code",
   "execution_count": 6,
   "metadata": {
    "colab": {
     "base_uri": "https://localhost:8080/"
    },
    "executionInfo": {
     "elapsed": 444,
     "status": "ok",
     "timestamp": 1710924802857,
     "user": {
      "displayName": "Bun Ratnatepy",
      "userId": "09977531303462029839"
     },
     "user_tz": -420
    },
    "id": "W0sH48J3qyuO",
    "outputId": "335e992d-2502-466d-99cd-a83784a21504"
   },
   "outputs": [
    {
     "name": "stdout",
     "output_type": "stream",
     "text": [
      "LoanID            0\n",
      "Age               0\n",
      "Income            0\n",
      "LoanAmount        0\n",
      "CreditScore       0\n",
      "MonthsEmployed    0\n",
      "NumCreditLines    0\n",
      "InterestRate      0\n",
      "LoanTerm          0\n",
      "DTIRatio          0\n",
      "Education         0\n",
      "EmploymentType    0\n",
      "MaritalStatus     0\n",
      "HasMortgage       0\n",
      "HasDependents     0\n",
      "LoanPurpose       0\n",
      "HasCoSigner       0\n",
      "Default           0\n",
      "dtype: int64\n"
     ]
    }
   ],
   "source": [
    "# check missing value\n",
    "missing_values = df.isnull().sum()\n",
    "print(missing_values)"
   ]
  },
  {
   "cell_type": "code",
   "execution_count": 7,
   "metadata": {
    "executionInfo": {
     "elapsed": 2,
     "status": "ok",
     "timestamp": 1710924804192,
     "user": {
      "displayName": "Bun Ratnatepy",
      "userId": "09977531303462029839"
     },
     "user_tz": -420
    },
    "id": "vVdCvdTZse5g"
   },
   "outputs": [],
   "source": [
    "# Drop some unessesery feature variables 'LoanID','Education', 'EmploymentType', 'MaritalStatus' and 'LoanPurpose'\n",
    "df = df.drop('LoanID', axis=1)\n",
    "df = df.drop('Education', axis=1)\n",
    "df = df.drop('EmploymentType', axis=1)\n",
    "df = df.drop('MaritalStatus', axis=1)\n",
    "df = df.drop('LoanPurpose', axis=1)"
   ]
  },
  {
   "cell_type": "code",
   "execution_count": 8,
   "metadata": {
    "colab": {
     "base_uri": "https://localhost:8080/"
    },
    "executionInfo": {
     "elapsed": 3,
     "status": "ok",
     "timestamp": 1710924805603,
     "user": {
      "displayName": "Bun Ratnatepy",
      "userId": "09977531303462029839"
     },
     "user_tz": -420
    },
    "id": "MuAeFQu50q3k",
    "outputId": "b1067759-297c-41e1-a749-8d2bedb02e53"
   },
   "outputs": [
    {
     "name": "stdout",
     "output_type": "stream",
     "text": [
      "<class 'pandas.core.frame.DataFrame'>\n",
      "RangeIndex: 255347 entries, 0 to 255346\n",
      "Data columns (total 13 columns):\n",
      " #   Column          Non-Null Count   Dtype  \n",
      "---  ------          --------------   -----  \n",
      " 0   Age             255347 non-null  int64  \n",
      " 1   Income          255347 non-null  int64  \n",
      " 2   LoanAmount      255347 non-null  int64  \n",
      " 3   CreditScore     255347 non-null  int64  \n",
      " 4   MonthsEmployed  255347 non-null  int64  \n",
      " 5   NumCreditLines  255347 non-null  int64  \n",
      " 6   InterestRate    255347 non-null  float64\n",
      " 7   LoanTerm        255347 non-null  int64  \n",
      " 8   DTIRatio        255347 non-null  float64\n",
      " 9   HasMortgage     255347 non-null  object \n",
      " 10  HasDependents   255347 non-null  object \n",
      " 11  HasCoSigner     255347 non-null  object \n",
      " 12  Default         255347 non-null  int64  \n",
      "dtypes: float64(2), int64(8), object(3)\n",
      "memory usage: 25.3+ MB\n"
     ]
    }
   ],
   "source": [
    "# Check the new data Information again\n",
    "df.info()"
   ]
  },
  {
   "cell_type": "code",
   "execution_count": 9,
   "metadata": {
    "colab": {
     "base_uri": "https://localhost:8080/"
    },
    "executionInfo": {
     "elapsed": 569,
     "status": "ok",
     "timestamp": 1710924807469,
     "user": {
      "displayName": "Bun Ratnatepy",
      "userId": "09977531303462029839"
     },
     "user_tz": -420
    },
    "id": "OCGn3fo605pb",
    "outputId": "e535d3e8-6517-4b1d-fd4d-52ca50c69559"
   },
   "outputs": [
    {
     "name": "stdout",
     "output_type": "stream",
     "text": [
      "Index(['Age', 'Income', 'LoanAmount', 'CreditScore', 'MonthsEmployed',\n",
      "       'NumCreditLines', 'InterestRate', 'LoanTerm', 'DTIRatio', 'HasMortgage',\n",
      "       'HasDependents', 'HasCoSigner', 'Default'],\n",
      "      dtype='object')\n"
     ]
    }
   ],
   "source": [
    "# Encode Categorical columns :\n",
    "from sklearn.preprocessing import OneHotEncoder\n",
    "df=df.copy()\n",
    "print(df.columns)"
   ]
  },
  {
   "cell_type": "code",
   "execution_count": 10,
   "metadata": {
    "executionInfo": {
     "elapsed": 3,
     "status": "ok",
     "timestamp": 1710924809087,
     "user": {
      "displayName": "Bun Ratnatepy",
      "userId": "09977531303462029839"
     },
     "user_tz": -420
    },
    "id": "I-_3TInB962L"
   },
   "outputs": [],
   "source": [
    "# Convert categorical variables to Numerical\n",
    "df = df.copy()\n",
    "columns_to_encode = ['HasMortgage', 'HasDependents', 'HasCoSigner']\n",
    "\n",
    "\n",
    "HasMortgage = {'Yes':1.0, 'No':0.0}\n",
    "HasDependents= {'Yes':1.0, 'No':0.0}\n",
    "HasCoSigner = {'Yes':1.0, 'No':0.0}\n",
    "df['HasMortgage'] = df['HasMortgage'].map(HasMortgage)\n",
    "df['HasDependents'] = df['HasDependents'].map(HasDependents)\n",
    "df['HasCoSigner'] = df['HasCoSigner'].map(HasCoSigner)"
   ]
  },
  {
   "cell_type": "code",
   "execution_count": 11,
   "metadata": {
    "colab": {
     "base_uri": "https://localhost:8080/",
     "height": 461
    },
    "executionInfo": {
     "elapsed": 8,
     "status": "ok",
     "timestamp": 1710924810827,
     "user": {
      "displayName": "Bun Ratnatepy",
      "userId": "09977531303462029839"
     },
     "user_tz": -420
    },
    "id": "TaXXb5j83F6k",
    "outputId": "0b035a0c-9121-4a23-efc1-f27514784b5d"
   },
   "outputs": [
    {
     "data": {
      "text/html": [
       "<div>\n",
       "<style scoped>\n",
       "    .dataframe tbody tr th:only-of-type {\n",
       "        vertical-align: middle;\n",
       "    }\n",
       "\n",
       "    .dataframe tbody tr th {\n",
       "        vertical-align: top;\n",
       "    }\n",
       "\n",
       "    .dataframe thead th {\n",
       "        text-align: right;\n",
       "    }\n",
       "</style>\n",
       "<table border=\"1\" class=\"dataframe\">\n",
       "  <thead>\n",
       "    <tr style=\"text-align: right;\">\n",
       "      <th></th>\n",
       "      <th>Age</th>\n",
       "      <th>Income</th>\n",
       "      <th>LoanAmount</th>\n",
       "      <th>CreditScore</th>\n",
       "      <th>MonthsEmployed</th>\n",
       "      <th>NumCreditLines</th>\n",
       "      <th>InterestRate</th>\n",
       "      <th>LoanTerm</th>\n",
       "      <th>DTIRatio</th>\n",
       "      <th>HasMortgage</th>\n",
       "      <th>HasDependents</th>\n",
       "      <th>HasCoSigner</th>\n",
       "      <th>Default</th>\n",
       "    </tr>\n",
       "  </thead>\n",
       "  <tbody>\n",
       "    <tr>\n",
       "      <th>0</th>\n",
       "      <td>56</td>\n",
       "      <td>85994</td>\n",
       "      <td>50587</td>\n",
       "      <td>520</td>\n",
       "      <td>80</td>\n",
       "      <td>4</td>\n",
       "      <td>15.23</td>\n",
       "      <td>36</td>\n",
       "      <td>0.44</td>\n",
       "      <td>1.0</td>\n",
       "      <td>1.0</td>\n",
       "      <td>1.0</td>\n",
       "      <td>0</td>\n",
       "    </tr>\n",
       "    <tr>\n",
       "      <th>1</th>\n",
       "      <td>69</td>\n",
       "      <td>50432</td>\n",
       "      <td>124440</td>\n",
       "      <td>458</td>\n",
       "      <td>15</td>\n",
       "      <td>1</td>\n",
       "      <td>4.81</td>\n",
       "      <td>60</td>\n",
       "      <td>0.68</td>\n",
       "      <td>0.0</td>\n",
       "      <td>0.0</td>\n",
       "      <td>1.0</td>\n",
       "      <td>0</td>\n",
       "    </tr>\n",
       "    <tr>\n",
       "      <th>2</th>\n",
       "      <td>46</td>\n",
       "      <td>84208</td>\n",
       "      <td>129188</td>\n",
       "      <td>451</td>\n",
       "      <td>26</td>\n",
       "      <td>3</td>\n",
       "      <td>21.17</td>\n",
       "      <td>24</td>\n",
       "      <td>0.31</td>\n",
       "      <td>1.0</td>\n",
       "      <td>1.0</td>\n",
       "      <td>0.0</td>\n",
       "      <td>1</td>\n",
       "    </tr>\n",
       "    <tr>\n",
       "      <th>3</th>\n",
       "      <td>32</td>\n",
       "      <td>31713</td>\n",
       "      <td>44799</td>\n",
       "      <td>743</td>\n",
       "      <td>0</td>\n",
       "      <td>3</td>\n",
       "      <td>7.07</td>\n",
       "      <td>24</td>\n",
       "      <td>0.23</td>\n",
       "      <td>0.0</td>\n",
       "      <td>0.0</td>\n",
       "      <td>0.0</td>\n",
       "      <td>0</td>\n",
       "    </tr>\n",
       "    <tr>\n",
       "      <th>4</th>\n",
       "      <td>60</td>\n",
       "      <td>20437</td>\n",
       "      <td>9139</td>\n",
       "      <td>633</td>\n",
       "      <td>8</td>\n",
       "      <td>4</td>\n",
       "      <td>6.51</td>\n",
       "      <td>48</td>\n",
       "      <td>0.73</td>\n",
       "      <td>0.0</td>\n",
       "      <td>1.0</td>\n",
       "      <td>0.0</td>\n",
       "      <td>0</td>\n",
       "    </tr>\n",
       "  </tbody>\n",
       "</table>\n",
       "</div>"
      ],
      "text/plain": [
       "   Age  Income  LoanAmount  CreditScore  MonthsEmployed  NumCreditLines  \\\n",
       "0   56   85994       50587          520              80               4   \n",
       "1   69   50432      124440          458              15               1   \n",
       "2   46   84208      129188          451              26               3   \n",
       "3   32   31713       44799          743               0               3   \n",
       "4   60   20437        9139          633               8               4   \n",
       "\n",
       "   InterestRate  LoanTerm  DTIRatio  HasMortgage  HasDependents  HasCoSigner  \\\n",
       "0         15.23        36      0.44          1.0            1.0          1.0   \n",
       "1          4.81        60      0.68          0.0            0.0          1.0   \n",
       "2         21.17        24      0.31          1.0            1.0          0.0   \n",
       "3          7.07        24      0.23          0.0            0.0          0.0   \n",
       "4          6.51        48      0.73          0.0            1.0          0.0   \n",
       "\n",
       "   Default  \n",
       "0        0  \n",
       "1        0  \n",
       "2        1  \n",
       "3        0  \n",
       "4        0  "
      ]
     },
     "execution_count": 11,
     "metadata": {},
     "output_type": "execute_result"
    }
   ],
   "source": [
    "df.head()\n",
    "\n"
   ]
  },
  {
   "cell_type": "code",
   "execution_count": 12,
   "metadata": {
    "colab": {
     "base_uri": "https://localhost:8080/",
     "height": 721
    },
    "executionInfo": {
     "elapsed": 4935,
     "status": "ok",
     "timestamp": 1710924944751,
     "user": {
      "displayName": "Bun Ratnatepy",
      "userId": "09977531303462029839"
     },
     "user_tz": -420
    },
    "id": "ZV7Lr9LVDgIH",
    "outputId": "cdc89839-9f1b-41a8-a703-dad7eecc8134"
   },
   "outputs": [
    {
     "data": {
      "image/png": "[encoded data removed]",
      "text/plain": [
       "<Figure size 2000x1000 with 8 Axes>"
      ]
     },
     "metadata": {},
     "output_type": "display_data"
    }
   ],
   "source": [
    "# Check for Outliers:\n",
    "numerical_variables=['Age', 'Income', 'LoanAmount', 'CreditScore', 'MonthsEmployed', 'InterestRate', 'LoanTerm', 'DTIRatio']\n",
    "categorical_variables=['Education', 'EmploymentType', 'MaritalStatus', 'HasMortgage', 'HasDependents', 'LoanPurpose','NumCreditLines', 'HasCoSigner', 'Default']\n",
    "plt.figure(figsize=(20, 10))\n",
    "ind=1\n",
    "for  variable in (numerical_variables):\n",
    "    plt.subplot(3, 3, ind)\n",
    "    sns.boxplot(x=df[variable],color=\"red\")\n",
    "    plt.title(variable)\n",
    "    ind+=1\n",
    "    plt.xlabel('')\n",
    "plt.tight_layout()\n",
    "plt.show()"
   ]
  },
  {
   "cell_type": "code",
   "execution_count": 13,
   "metadata": {
    "colab": {
     "base_uri": "https://localhost:8080/",
     "height": 1000
    },
    "executionInfo": {
     "elapsed": 2560,
     "status": "ok",
     "timestamp": 1710925473018,
     "user": {
      "displayName": "Bun Ratnatepy",
      "userId": "09977531303462029839"
     },
     "user_tz": -420
    },
    "id": "jS_ezIRYGfHY",
    "outputId": "ba4195e1-2ca0-4bd7-9559-5c7777c012fd"
   },
   "outputs": [
    {
     "data": {
      "image/png": "[encoded data removed]",
      "text/plain": [
       "<Figure size 1000x800 with 2 Axes>"
      ]
     },
     "metadata": {},
     "output_type": "display_data"
    }
   ],
   "source": [
    "# Calculate Correlation Matrix\n",
    "correlation_matrix = df.corr()\n",
    "plt.figure(figsize=(10, 8))  # Adjust the size as needed\n",
    "sns.heatmap(correlation_matrix, annot=True, cmap='coolwarm', fmt='.2f')\n",
    "plt.title('Correlation Matrix Heatmap')\n",
    "plt.show()\n",
    "\n"
   ]
  },
  {
   "cell_type": "code",
   "execution_count": 14,
   "metadata": {
    "id": "4g0EGypqG2X4"
   },
   "outputs": [
    {
     "name": "stdout",
     "output_type": "stream",
     "text": [
      "<class 'pandas.core.frame.DataFrame'>\n",
      "RangeIndex: 255347 entries, 0 to 255346\n",
      "Data columns (total 6 columns):\n",
      " #   Column        Non-Null Count   Dtype  \n",
      "---  ------        --------------   -----  \n",
      " 0   Income        255347 non-null  int64  \n",
      " 1   LoanAmount    255347 non-null  int64  \n",
      " 2   CreditScore   255347 non-null  int64  \n",
      " 3   InterestRate  255347 non-null  float64\n",
      " 4   DTIRatio      255347 non-null  float64\n",
      " 5   Default       255347 non-null  int64  \n",
      "dtypes: float64(2), int64(4)\n",
      "memory usage: 11.7 MB\n"
     ]
    }
   ],
   "source": [
    "# Drop some unessesery feature variables 'LoanID','Education', 'EmploymentType', 'MaritalStatus' and 'LoanPurpose'\n",
    "df = df.drop('Age', axis=1)\n",
    "df = df.drop('MonthsEmployed', axis=1)\n",
    "df = df.drop('NumCreditLines', axis=1)\n",
    "df = df.drop('LoanTerm', axis=1)\n",
    "df = df.drop('HasMortgage', axis=1)\n",
    "df = df.drop('HasDependents', axis=1)\n",
    "df = df.drop('HasCoSigner', axis=1)\n",
    "# Check the new data Information again\n",
    "df.info()\n"
   ]
  },
  {
   "cell_type": "code",
   "execution_count": 15,
   "metadata": {},
   "outputs": [
    {
     "name": "stdout",
     "output_type": "stream",
     "text": [
      "(255347, 5)\n",
      "(255347,)\n"
     ]
    },
    {
     "name": "stdout",
     "output_type": "stream",
     "text": [
      "X_train shape: (204277, 5)\n",
      "X_test shape: (51070, 5)\n",
      "y_train shape: (204277,)\n",
      "y_test shape: (51070,)\n"
     ]
    }
   ],
   "source": [
    "data = df.to_numpy()\n",
    "\n",
    "X = data[:, :5]\n",
    "y = data[:, 5]\n",
    "print(X.shape)\n",
    "print(y.shape)\n",
    "from sklearn.model_selection import train_test_split\n",
    "\n",
    "# Assuming 'X' contains the features and 'y' contains the labels\n",
    "X_train, X_test, y_train, y_test = train_test_split(X, y, test_size=0.2, random_state=42)\n",
    "\n",
    "print(\"X_train shape:\", X_train.shape)\n",
    "print(\"X_test shape:\", X_test.shape)\n",
    "print(\"y_train shape:\", y_train.shape)\n",
    "print(\"y_test shape:\", y_test.shape)"
   ]
  },
  {
   "cell_type": "code",
   "execution_count": 16,
   "metadata": {},
   "outputs": [
    {
     "name": "stdout",
     "output_type": "stream",
     "text": [
      "X_train shape: (204277, 5)\n",
      "X_test shape: (51070, 5)\n",
      "y_train shape: (204277,)\n",
      "y_test shape: (51070,)\n"
     ]
    }
   ],
   "source": [
    "from sklearn.model_selection import train_test_split\n",
    "\n",
    "# Assuming 'X' contains the features and 'y' contains the labels\n",
    "X_train, X_test, y_train, y_test = train_test_split(X, y, test_size=0.2, random_state=42)\n",
    "\n",
    "print(\"X_train shape:\", X_train.shape)\n",
    "print(\"X_test shape:\", X_test.shape)\n",
    "print(\"y_train shape:\", y_train.shape)\n",
    "print(\"y_test shape:\", y_test.shape)"
   ]
  },
  {
   "cell_type": "code",
   "execution_count": 17,
   "metadata": {},
   "outputs": [
    {
     "data": {
      "text/plain": [
       "array([[ 0.40792726,  0.33301702,  0.49530874, -0.1312238 ,  0.38677635],\n",
       "       [-0.18749937, -0.49623873,  0.31680237,  0.27095011,  0.28677635],\n",
       "       [ 0.01349471, -0.1325827 , -0.22053825,  0.46790664, -0.06322365],\n",
       "       [-0.24230719,  0.41647076, -0.07481876,  0.0413849 , -0.41322365],\n",
       "       [ 0.24402975, -0.43051574,  0.48437978,  0.47790664, -0.48822365]])"
      ]
     },
     "execution_count": 17,
     "metadata": {},
     "output_type": "execute_result"
    }
   ],
   "source": [
    "# feature scaling\n",
    "X_scaled = (X_train-X_train.mean(axis=0))/(X_train.max(axis=0)-X_train.min(axis=0))\n",
    "X_scaled[:5]"
   ]
  },
  {
   "cell_type": "code",
   "execution_count": 18,
   "metadata": {},
   "outputs": [
    {
     "name": "stdout",
     "output_type": "stream",
     "text": [
      "tensor([[ 1.0000,  0.4079,  0.3330,  0.4953, -0.1312,  0.3868],\n",
      "        [ 1.0000, -0.1875, -0.4962,  0.3168,  0.2710,  0.2868],\n",
      "        [ 1.0000,  0.0135, -0.1326, -0.2205,  0.4679, -0.0632],\n",
      "        [ 1.0000, -0.2423,  0.4165, -0.0748,  0.0414, -0.4132],\n",
      "        [ 1.0000,  0.2440, -0.4305,  0.4844,  0.4779, -0.4882]])\n"
     ]
    }
   ],
   "source": [
    "import torch\n",
    "# convert arrays to tensors\n",
    "tX = torch.tensor(X_scaled, dtype=torch.float32)\n",
    "ty = torch.tensor(y_train.reshape(-1,1), dtype=torch.float32)\n",
    "#print(tX.shape)\n",
    "#print(ty.shape)X\n",
    "X_new=torch.concat((torch.ones(len(X_train),1),tX),dim=1)\n",
    "print(X_new[:5])"
   ]
  },
  {
   "cell_type": "code",
   "execution_count": 19,
   "metadata": {},
   "outputs": [
    {
     "name": "stdout",
     "output_type": "stream",
     "text": [
      "Epoch 10, Cost = 0.6930\n",
      "Epoch 20, Cost = 0.6929\n",
      "Epoch 30, Cost = 0.6927\n",
      "Epoch 40, Cost = 0.6926\n",
      "Epoch 50, Cost = 0.6924\n",
      "Epoch 60, Cost = 0.6923\n",
      "Epoch 70, Cost = 0.6921\n",
      "Epoch 80, Cost = 0.6920\n",
      "Epoch 90, Cost = 0.6918\n",
      "Epoch 100, Cost = 0.6917\n",
      "Epoch 110, Cost = 0.6915\n",
      "Epoch 120, Cost = 0.6914\n",
      "Epoch 130, Cost = 0.6913\n",
      "Epoch 140, Cost = 0.6911\n",
      "Epoch 150, Cost = 0.6910\n",
      "Epoch 160, Cost = 0.6908\n",
      "Epoch 170, Cost = 0.6907\n",
      "Epoch 180, Cost = 0.6905\n",
      "Epoch 190, Cost = 0.6904\n",
      "Epoch 200, Cost = 0.6902\n",
      "Epoch 210, Cost = 0.6901\n",
      "Epoch 220, Cost = 0.6899\n",
      "Epoch 230, Cost = 0.6898\n",
      "Epoch 240, Cost = 0.6896\n",
      "Epoch 250, Cost = 0.6895\n",
      "Epoch 260, Cost = 0.6894\n",
      "Epoch 270, Cost = 0.6892\n",
      "Epoch 280, Cost = 0.6891\n",
      "Epoch 290, Cost = 0.6889\n",
      "Epoch 300, Cost = 0.6888\n",
      "Epoch 310, Cost = 0.6886\n",
      "Epoch 320, Cost = 0.6885\n",
      "Epoch 330, Cost = 0.6883\n",
      "Epoch 340, Cost = 0.6882\n",
      "Epoch 350, Cost = 0.6880\n",
      "Epoch 360, Cost = 0.6879\n",
      "Epoch 370, Cost = 0.6878\n",
      "Epoch 380, Cost = 0.6876\n",
      "Epoch 390, Cost = 0.6875\n",
      "Epoch 400, Cost = 0.6873\n",
      "Epoch 410, Cost = 0.6872\n",
      "Epoch 420, Cost = 0.6870\n",
      "Epoch 430, Cost = 0.6869\n",
      "Epoch 440, Cost = 0.6867\n",
      "Epoch 450, Cost = 0.6866\n",
      "Epoch 460, Cost = 0.6865\n",
      "Epoch 470, Cost = 0.6863\n",
      "Epoch 480, Cost = 0.6862\n",
      "Epoch 490, Cost = 0.6860\n",
      "Epoch 500, Cost = 0.6859\n",
      "Epoch 510, Cost = 0.6857\n",
      "Epoch 520, Cost = 0.6856\n",
      "Epoch 530, Cost = 0.6854\n",
      "Epoch 540, Cost = 0.6853\n",
      "Epoch 550, Cost = 0.6852\n",
      "Epoch 560, Cost = 0.6850\n",
      "Epoch 570, Cost = 0.6849\n",
      "Epoch 580, Cost = 0.6847\n",
      "Epoch 590, Cost = 0.6846\n",
      "Epoch 600, Cost = 0.6844\n",
      "Epoch 610, Cost = 0.6843\n",
      "Epoch 620, Cost = 0.6842\n",
      "Epoch 630, Cost = 0.6840\n",
      "Epoch 640, Cost = 0.6839\n",
      "Epoch 650, Cost = 0.6837\n",
      "Epoch 660, Cost = 0.6836\n",
      "Epoch 670, Cost = 0.6834\n",
      "Epoch 680, Cost = 0.6833\n",
      "Epoch 690, Cost = 0.6832\n",
      "Epoch 700, Cost = 0.6830\n",
      "Epoch 710, Cost = 0.6829\n",
      "Epoch 720, Cost = 0.6827\n",
      "Epoch 730, Cost = 0.6826\n",
      "Epoch 740, Cost = 0.6824\n",
      "Epoch 750, Cost = 0.6823\n",
      "Epoch 760, Cost = 0.6822\n",
      "Epoch 770, Cost = 0.6820\n",
      "Epoch 780, Cost = 0.6819\n",
      "Epoch 790, Cost = 0.6817\n",
      "Epoch 800, Cost = 0.6816\n",
      "Epoch 810, Cost = 0.6814\n",
      "Epoch 820, Cost = 0.6813\n",
      "Epoch 830, Cost = 0.6812\n",
      "Epoch 840, Cost = 0.6810\n",
      "Epoch 850, Cost = 0.6809\n",
      "Epoch 860, Cost = 0.6807\n",
      "Epoch 870, Cost = 0.6806\n",
      "Epoch 880, Cost = 0.6805\n",
      "Epoch 890, Cost = 0.6803\n",
      "Epoch 900, Cost = 0.6802\n",
      "Epoch 910, Cost = 0.6800\n",
      "Epoch 920, Cost = 0.6799\n",
      "Epoch 930, Cost = 0.6798\n",
      "Epoch 940, Cost = 0.6796\n",
      "Epoch 950, Cost = 0.6795\n",
      "Epoch 960, Cost = 0.6793\n",
      "Epoch 970, Cost = 0.6792\n",
      "Epoch 980, Cost = 0.6790\n",
      "Epoch 990, Cost = 0.6789\n",
      "Epoch 1000, Cost = 0.6788\n",
      "Epoch 1010, Cost = 0.6786\n",
      "Epoch 1020, Cost = 0.6785\n",
      "Epoch 1030, Cost = 0.6783\n",
      "Epoch 1040, Cost = 0.6782\n",
      "Epoch 1050, Cost = 0.6781\n",
      "Epoch 1060, Cost = 0.6779\n",
      "Epoch 1070, Cost = 0.6778\n",
      "Epoch 1080, Cost = 0.6776\n",
      "Epoch 1090, Cost = 0.6775\n",
      "Epoch 1100, Cost = 0.6774\n",
      "Epoch 1110, Cost = 0.6772\n",
      "Epoch 1120, Cost = 0.6771\n",
      "Epoch 1130, Cost = 0.6769\n",
      "Epoch 1140, Cost = 0.6768\n",
      "Epoch 1150, Cost = 0.6767\n",
      "Epoch 1160, Cost = 0.6765\n",
      "Epoch 1170, Cost = 0.6764\n",
      "Epoch 1180, Cost = 0.6763\n",
      "Epoch 1190, Cost = 0.6761\n",
      "Epoch 1200, Cost = 0.6760\n",
      "Epoch 1210, Cost = 0.6758\n",
      "Epoch 1220, Cost = 0.6757\n",
      "Epoch 1230, Cost = 0.6756\n",
      "Epoch 1240, Cost = 0.6754\n",
      "Epoch 1250, Cost = 0.6753\n",
      "Epoch 1260, Cost = 0.6751\n",
      "Epoch 1270, Cost = 0.6750\n",
      "Epoch 1280, Cost = 0.6749\n",
      "Epoch 1290, Cost = 0.6747\n",
      "Epoch 1300, Cost = 0.6746\n",
      "Epoch 1310, Cost = 0.6745\n",
      "Epoch 1320, Cost = 0.6743\n",
      "Epoch 1330, Cost = 0.6742\n",
      "Epoch 1340, Cost = 0.6740\n",
      "Epoch 1350, Cost = 0.6739\n",
      "Epoch 1360, Cost = 0.6738\n",
      "Epoch 1370, Cost = 0.6736\n",
      "Epoch 1380, Cost = 0.6735\n",
      "Epoch 1390, Cost = 0.6733\n",
      "Epoch 1400, Cost = 0.6732\n",
      "Epoch 1410, Cost = 0.6731\n",
      "Epoch 1420, Cost = 0.6729\n",
      "Epoch 1430, Cost = 0.6728\n",
      "Epoch 1440, Cost = 0.6727\n",
      "Epoch 1450, Cost = 0.6725\n",
      "Epoch 1460, Cost = 0.6724\n",
      "Epoch 1470, Cost = 0.6722\n",
      "Epoch 1480, Cost = 0.6721\n",
      "Epoch 1490, Cost = 0.6720\n"
     ]
    }
   ],
   "source": [
    "# training\n",
    "theta = torch.zeros((X_new.shape[1],1), dtype=torch.float32, requires_grad=True)\n",
    "alpha = 0.0001\n",
    "\n",
    "for epoch in range(1, 1500):\n",
    "  z = torch.matmul(X_new, theta)\n",
    "  h = torch.sigmoid(z)\n",
    "\n",
    "  cost = -ty*torch.log(h)-(1-ty)*torch.log(1-h)\n",
    "  cost = cost.mean()\n",
    "\n",
    "  # calculate derivatives\n",
    "  cost.backward()\n",
    "\n",
    "  # update parameters\n",
    "  theta.requires_grad = False\n",
    "  theta += -alpha * theta.grad\n",
    "  theta.grad.zero_()\n",
    "  theta.requires_grad = True\n",
    "\n",
    "  if epoch%10 == 0:\n",
    "    print(f'Epoch {epoch:02d}, Cost = {cost.item():0.4f}')"
   ]
  },
  {
   "cell_type": "code",
   "execution_count": 20,
   "metadata": {},
   "outputs": [
    {
     "name": "stdout",
     "output_type": "stream",
     "text": [
      "Accuray = 88.37%\n"
     ]
    }
   ],
   "source": [
    "# Evaluate\n",
    "h = torch.sigmoid(torch.matmul(X_new, theta))\n",
    "tz = ty.clone()\n",
    "tz[h>=0.5] = 1\n",
    "tz[h<0.5] = 0\n",
    "\n",
    "accuracy = (tz == ty).int().sum()/len(X_train)\n",
    "print(f'Accuray = {accuracy*100:.2f}%')"
   ]
  },
  {
   "cell_type": "code",
   "execution_count": 21,
   "metadata": {},
   "outputs": [
    {
     "data": {
      "text/plain": [
       "array([[ 0.223598  , -0.14413616,  0.01089305,  0.43603141, -0.43593083],\n",
       "       [ 0.06739106,  0.01579951,  0.12018266,  0.07298793, -0.08593083],\n",
       "       [-0.03187261, -0.21342991, -0.01096488,  0.19603141, -0.26093083],\n",
       "       [-0.14399611, -0.47717151, -0.45358783,  0.05211836, -0.11093083],\n",
       "       [-0.39117747, -0.43480991,  0.15843403,  0.06559662,  0.23906917]])"
      ]
     },
     "execution_count": 21,
     "metadata": {},
     "output_type": "execute_result"
    }
   ],
   "source": [
    "X_test_scaled = (X_test-X_test.mean(axis=0))/(X_test.max(axis=0)-X_test.min(axis=0))\n",
    "X_test_scaled[:5]"
   ]
  },
  {
   "cell_type": "code",
   "execution_count": 22,
   "metadata": {},
   "outputs": [
    {
     "data": {
      "text/plain": [
       "tensor([[ 1.0000,  0.2236, -0.1441,  0.0109,  0.4360, -0.4359],\n",
       "        [ 1.0000,  0.0674,  0.0158,  0.1202,  0.0730, -0.0859],\n",
       "        [ 1.0000, -0.0319, -0.2134, -0.0110,  0.1960, -0.2609],\n",
       "        [ 1.0000, -0.1440, -0.4772, -0.4536,  0.0521, -0.1109]])"
      ]
     },
     "execution_count": 22,
     "metadata": {},
     "output_type": "execute_result"
    }
   ],
   "source": [
    "tX_test = torch.tensor(X_test_scaled, dtype=torch.float32)\n",
    "ty_test = torch.tensor(y_test.reshape(-1,1), dtype=torch.float32)\n",
    "X_new1=torch.concat((torch.ones(len(X_test),1),tX_test),dim=1)\n",
    "X_new1[:4]"
   ]
  },
  {
   "cell_type": "code",
   "execution_count": 23,
   "metadata": {},
   "outputs": [
    {
     "name": "stdout",
     "output_type": "stream",
     "text": [
      "Accuray = 88.45%\n"
     ]
    }
   ],
   "source": [
    "tm = torch.tensor(y_test.reshape(-1,1), dtype=torch.float32)\n",
    "tn = tm.clone()\n",
    "h = torch.sigmoid(torch.matmul(X_new1, theta))\n",
    "tn[h>=0.5] = 1\n",
    "tn[h<0.5] = 0\n",
    "tm = torch.tensor(y_test.reshape(-1,1), dtype=torch.float32)\n",
    "\n",
    "accuracy1 = (tn == tm).int().sum()/len(X_test)\n",
    "print(f'Accuray = {accuracy1*100:.2f}%')"
   ]
  }
 ],
 "metadata": {
  "colab": {
   "authorship_tag": "ABX9TyMBsXSKHT/bUU7XdeHkw67d",
   "provenance": []
  },
  "kernelspec": {
   "display_name": "Python 3",
   "name": "python3"
  },
  "language_info": {
   "codemirror_mode": {
    "name": "ipython",
    "version": 3
   },
   "file_extension": ".py",
   "mimetype": "text/x-python",
   "name": "python",
   "nbconvert_exporter": "python",
   "pygments_lexer": "ipython3",
   "version": "3.11.5"
  }
 },
 "nbformat": 4,
 "nbformat_minor": 0
}
